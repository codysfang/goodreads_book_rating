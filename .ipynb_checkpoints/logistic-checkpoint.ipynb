{
 "cells": [
  {
   "cell_type": "markdown",
   "metadata": {},
   "source": [
    "# Logistic Regression Classifier"
   ]
  },
  {
   "cell_type": "code",
   "execution_count": 1,
   "metadata": {},
   "outputs": [],
   "source": [
    "import numpy as np\n",
    "import pandas as pd\n",
    "\n",
    "np.random.seed(409782)\n",
    "label = \"rating_label\"\n",
    "random_state_const = 10987"
   ]
  },
  {
   "cell_type": "code",
   "execution_count": 2,
   "metadata": {},
   "outputs": [],
   "source": [
    "train = pd.read_csv(f\"train_final.csv\")\n",
    "test = pd.read_csv(f\"test_final.csv\")\n",
    "\n",
    "train_y = train.pop(label)\n",
    "train_X = train\n",
    "test_y = test.pop(label)\n",
    "test_X = test"
   ]
  },
  {
   "cell_type": "code",
   "execution_count": 3,
   "metadata": {},
   "outputs": [],
   "source": [
    "from sklearn import metrics\n",
    "\n",
    "def report(a, b):\n",
    "    reports = [\n",
    "                metrics.accuracy_score(a, b), \n",
    "                metrics.precision_score(a, b, average=\"macro\"),\n",
    "                metrics.recall_score(a, b, average=\"macro\"),\n",
    "                metrics.f1_score(a, b, average=\"macro\")\n",
    "               ]\n",
    "    return reports"
   ]
  },
  {
   "cell_type": "markdown",
   "metadata": {},
   "source": [
    "### Model Selection"
   ]
  },
  {
   "cell_type": "code",
   "execution_count": 4,
   "metadata": {},
   "outputs": [
    {
     "name": "stderr",
     "output_type": "stream",
     "text": [
      "/opt/homebrew/lib/python3.9/site-packages/sklearn/linear_model/_logistic.py:1113: UserWarning: Setting penalty='none' will ignore the C and l1_ratio parameters\n",
      "  warnings.warn(\n",
      "/opt/homebrew/lib/python3.9/site-packages/sklearn/linear_model/_logistic.py:1113: UserWarning: Setting penalty='none' will ignore the C and l1_ratio parameters\n",
      "  warnings.warn(\n",
      "/opt/homebrew/lib/python3.9/site-packages/sklearn/linear_model/_logistic.py:1113: UserWarning: Setting penalty='none' will ignore the C and l1_ratio parameters\n",
      "  warnings.warn(\n",
      "/opt/homebrew/lib/python3.9/site-packages/sklearn/linear_model/_logistic.py:1113: UserWarning: Setting penalty='none' will ignore the C and l1_ratio parameters\n",
      "  warnings.warn(\n",
      "/opt/homebrew/lib/python3.9/site-packages/sklearn/linear_model/_logistic.py:1113: UserWarning: Setting penalty='none' will ignore the C and l1_ratio parameters\n",
      "  warnings.warn(\n",
      "/opt/homebrew/lib/python3.9/site-packages/sklearn/linear_model/_logistic.py:1113: UserWarning: Setting penalty='none' will ignore the C and l1_ratio parameters\n",
      "  warnings.warn(\n",
      "/opt/homebrew/lib/python3.9/site-packages/sklearn/linear_model/_logistic.py:1113: UserWarning: Setting penalty='none' will ignore the C and l1_ratio parameters\n",
      "  warnings.warn(\n",
      "/opt/homebrew/lib/python3.9/site-packages/sklearn/linear_model/_logistic.py:1113: UserWarning: Setting penalty='none' will ignore the C and l1_ratio parameters\n",
      "  warnings.warn(\n",
      "/opt/homebrew/lib/python3.9/site-packages/sklearn/linear_model/_logistic.py:1113: UserWarning: Setting penalty='none' will ignore the C and l1_ratio parameters\n",
      "  warnings.warn(\n",
      "/opt/homebrew/lib/python3.9/site-packages/sklearn/linear_model/_logistic.py:1113: UserWarning: Setting penalty='none' will ignore the C and l1_ratio parameters\n",
      "  warnings.warn(\n"
     ]
    },
    {
     "data": {
      "text/html": [
       "<div>\n",
       "<style scoped>\n",
       "    .dataframe tbody tr th:only-of-type {\n",
       "        vertical-align: middle;\n",
       "    }\n",
       "\n",
       "    .dataframe tbody tr th {\n",
       "        vertical-align: top;\n",
       "    }\n",
       "\n",
       "    .dataframe thead th {\n",
       "        text-align: right;\n",
       "    }\n",
       "</style>\n",
       "<table border=\"1\" class=\"dataframe\">\n",
       "  <thead>\n",
       "    <tr style=\"text-align: right;\">\n",
       "      <th></th>\n",
       "      <th>mean_fit_time</th>\n",
       "      <th>std_fit_time</th>\n",
       "      <th>mean_score_time</th>\n",
       "      <th>std_score_time</th>\n",
       "      <th>param_penalty</th>\n",
       "      <th>param_C</th>\n",
       "      <th>params</th>\n",
       "      <th>split0_test_accuracy</th>\n",
       "      <th>split1_test_accuracy</th>\n",
       "      <th>split2_test_accuracy</th>\n",
       "      <th>...</th>\n",
       "      <th>std_test_accuracy</th>\n",
       "      <th>rank_test_accuracy</th>\n",
       "      <th>split0_test_f1_macro</th>\n",
       "      <th>split1_test_f1_macro</th>\n",
       "      <th>split2_test_f1_macro</th>\n",
       "      <th>split3_test_f1_macro</th>\n",
       "      <th>split4_test_f1_macro</th>\n",
       "      <th>mean_test_f1_macro</th>\n",
       "      <th>std_test_f1_macro</th>\n",
       "      <th>rank_test_f1_macro</th>\n",
       "    </tr>\n",
       "  </thead>\n",
       "  <tbody>\n",
       "    <tr>\n",
       "      <th>0</th>\n",
       "      <td>13.889001</td>\n",
       "      <td>2.776665</td>\n",
       "      <td>0.004540</td>\n",
       "      <td>0.001812</td>\n",
       "      <td>l2</td>\n",
       "      <td>1</td>\n",
       "      <td>{'penalty': 'l2', 'C': 1}</td>\n",
       "      <td>0.705691</td>\n",
       "      <td>0.704336</td>\n",
       "      <td>0.701626</td>\n",
       "      <td>...</td>\n",
       "      <td>0.001898</td>\n",
       "      <td>1</td>\n",
       "      <td>0.327137</td>\n",
       "      <td>0.346354</td>\n",
       "      <td>0.317650</td>\n",
       "      <td>0.301085</td>\n",
       "      <td>0.336383</td>\n",
       "      <td>0.325722</td>\n",
       "      <td>0.015579</td>\n",
       "      <td>5</td>\n",
       "    </tr>\n",
       "    <tr>\n",
       "      <th>1</th>\n",
       "      <td>18.422610</td>\n",
       "      <td>3.837924</td>\n",
       "      <td>0.002414</td>\n",
       "      <td>0.000120</td>\n",
       "      <td>l2</td>\n",
       "      <td>3</td>\n",
       "      <td>{'penalty': 'l2', 'C': 3}</td>\n",
       "      <td>0.705149</td>\n",
       "      <td>0.701897</td>\n",
       "      <td>0.702168</td>\n",
       "      <td>...</td>\n",
       "      <td>0.001428</td>\n",
       "      <td>2</td>\n",
       "      <td>0.328183</td>\n",
       "      <td>0.346586</td>\n",
       "      <td>0.327028</td>\n",
       "      <td>0.304765</td>\n",
       "      <td>0.339599</td>\n",
       "      <td>0.329232</td>\n",
       "      <td>0.014236</td>\n",
       "      <td>3</td>\n",
       "    </tr>\n",
       "    <tr>\n",
       "      <th>2</th>\n",
       "      <td>14.206911</td>\n",
       "      <td>2.093419</td>\n",
       "      <td>0.003155</td>\n",
       "      <td>0.001386</td>\n",
       "      <td>l2</td>\n",
       "      <td>4</td>\n",
       "      <td>{'penalty': 'l2', 'C': 4}</td>\n",
       "      <td>0.703794</td>\n",
       "      <td>0.701084</td>\n",
       "      <td>0.703252</td>\n",
       "      <td>...</td>\n",
       "      <td>0.001310</td>\n",
       "      <td>3</td>\n",
       "      <td>0.319786</td>\n",
       "      <td>0.346656</td>\n",
       "      <td>0.331069</td>\n",
       "      <td>0.300401</td>\n",
       "      <td>0.341678</td>\n",
       "      <td>0.327918</td>\n",
       "      <td>0.016575</td>\n",
       "      <td>4</td>\n",
       "    </tr>\n",
       "    <tr>\n",
       "      <th>3</th>\n",
       "      <td>16.662759</td>\n",
       "      <td>2.069537</td>\n",
       "      <td>0.004387</td>\n",
       "      <td>0.001643</td>\n",
       "      <td>none</td>\n",
       "      <td>5</td>\n",
       "      <td>{'penalty': 'none', 'C': 5}</td>\n",
       "      <td>0.705420</td>\n",
       "      <td>0.699187</td>\n",
       "      <td>0.702981</td>\n",
       "      <td>...</td>\n",
       "      <td>0.002103</td>\n",
       "      <td>4</td>\n",
       "      <td>0.327674</td>\n",
       "      <td>0.345980</td>\n",
       "      <td>0.326158</td>\n",
       "      <td>0.304676</td>\n",
       "      <td>0.342058</td>\n",
       "      <td>0.329309</td>\n",
       "      <td>0.014559</td>\n",
       "      <td>1</td>\n",
       "    </tr>\n",
       "    <tr>\n",
       "      <th>4</th>\n",
       "      <td>16.830803</td>\n",
       "      <td>2.156268</td>\n",
       "      <td>0.004323</td>\n",
       "      <td>0.001827</td>\n",
       "      <td>none</td>\n",
       "      <td>3</td>\n",
       "      <td>{'penalty': 'none', 'C': 3}</td>\n",
       "      <td>0.705420</td>\n",
       "      <td>0.699187</td>\n",
       "      <td>0.702981</td>\n",
       "      <td>...</td>\n",
       "      <td>0.002103</td>\n",
       "      <td>4</td>\n",
       "      <td>0.327674</td>\n",
       "      <td>0.345980</td>\n",
       "      <td>0.326158</td>\n",
       "      <td>0.304676</td>\n",
       "      <td>0.342058</td>\n",
       "      <td>0.329309</td>\n",
       "      <td>0.014559</td>\n",
       "      <td>1</td>\n",
       "    </tr>\n",
       "  </tbody>\n",
       "</table>\n",
       "<p>5 rows × 23 columns</p>\n",
       "</div>"
      ],
      "text/plain": [
       "   mean_fit_time  std_fit_time  mean_score_time  std_score_time param_penalty  \\\n",
       "0      13.889001      2.776665         0.004540        0.001812            l2   \n",
       "1      18.422610      3.837924         0.002414        0.000120            l2   \n",
       "2      14.206911      2.093419         0.003155        0.001386            l2   \n",
       "3      16.662759      2.069537         0.004387        0.001643          none   \n",
       "4      16.830803      2.156268         0.004323        0.001827          none   \n",
       "\n",
       "  param_C                       params  split0_test_accuracy  \\\n",
       "0       1    {'penalty': 'l2', 'C': 1}              0.705691   \n",
       "1       3    {'penalty': 'l2', 'C': 3}              0.705149   \n",
       "2       4    {'penalty': 'l2', 'C': 4}              0.703794   \n",
       "3       5  {'penalty': 'none', 'C': 5}              0.705420   \n",
       "4       3  {'penalty': 'none', 'C': 3}              0.705420   \n",
       "\n",
       "   split1_test_accuracy  split2_test_accuracy  ...  std_test_accuracy  \\\n",
       "0              0.704336              0.701626  ...           0.001898   \n",
       "1              0.701897              0.702168  ...           0.001428   \n",
       "2              0.701084              0.703252  ...           0.001310   \n",
       "3              0.699187              0.702981  ...           0.002103   \n",
       "4              0.699187              0.702981  ...           0.002103   \n",
       "\n",
       "   rank_test_accuracy  split0_test_f1_macro  split1_test_f1_macro  \\\n",
       "0                   1              0.327137              0.346354   \n",
       "1                   2              0.328183              0.346586   \n",
       "2                   3              0.319786              0.346656   \n",
       "3                   4              0.327674              0.345980   \n",
       "4                   4              0.327674              0.345980   \n",
       "\n",
       "   split2_test_f1_macro  split3_test_f1_macro  split4_test_f1_macro  \\\n",
       "0              0.317650              0.301085              0.336383   \n",
       "1              0.327028              0.304765              0.339599   \n",
       "2              0.331069              0.300401              0.341678   \n",
       "3              0.326158              0.304676              0.342058   \n",
       "4              0.326158              0.304676              0.342058   \n",
       "\n",
       "   mean_test_f1_macro  std_test_f1_macro  rank_test_f1_macro  \n",
       "0            0.325722           0.015579                   5  \n",
       "1            0.329232           0.014236                   3  \n",
       "2            0.327918           0.016575                   4  \n",
       "3            0.329309           0.014559                   1  \n",
       "4            0.329309           0.014559                   1  \n",
       "\n",
       "[5 rows x 23 columns]"
      ]
     },
     "execution_count": 4,
     "metadata": {},
     "output_type": "execute_result"
    }
   ],
   "source": [
    "from sklearn.model_selection import RandomizedSearchCV\n",
    "from sklearn.linear_model import LogisticRegression\n",
    "\n",
    "logistic_classifier = LogisticRegression(random_state=random_state_const, max_iter=10000)\n",
    "possible_hyperparams = {'penalty': ['l2', 'none'], 'C':[i for i in range(1, 6)]}\n",
    "\n",
    "grid_search = RandomizedSearchCV(logistic_classifier, possible_hyperparams, n_iter = 5, scoring=['accuracy','f1_macro'], refit=False, random_state=62)\n",
    "grid_search.fit(train_X, train_y)\n",
    "\n",
    "results = pd.DataFrame(grid_search.cv_results_)\n",
    "results"
   ]
  },
  {
   "cell_type": "markdown",
   "metadata": {},
   "source": [
    "### Model Validation"
   ]
  },
  {
   "cell_type": "code",
   "execution_count": 18,
   "metadata": {},
   "outputs": [],
   "source": [
    "logis = LogisticRegression(random_state=10987, max_iter=10000, penalty='none')\n",
    "logis.fit(train_X, train_y)\n",
    "res = logis.predict(test_X)"
   ]
  },
  {
   "cell_type": "code",
   "execution_count": 19,
   "metadata": {},
   "outputs": [
    {
     "data": {
      "text/plain": [
       "[0.7062649035334922,\n",
       " 0.3546698700135608,\n",
       " 0.5902806062981435,\n",
       " 0.32462510335912337]"
      ]
     },
     "execution_count": 19,
     "metadata": {},
     "output_type": "execute_result"
    }
   ],
   "source": [
    "report(res, test_y)"
   ]
  },
  {
   "cell_type": "code",
   "execution_count": 20,
   "metadata": {},
   "outputs": [
    {
     "data": {
      "image/png": "[encoded data removed]",
      "text/plain": [
       "<Figure size 360x288 with 2 Axes>"
      ]
     },
     "metadata": {
      "needs_background": "light"
     },
     "output_type": "display_data"
    }
   ],
   "source": [
    "from sklearn.metrics import confusion_matrix\n",
    "import matplotlib.pyplot as plt\n",
    "import seaborn as sns\n",
    "cm = confusion_matrix(test_y, res)\n",
    "cmn = cm.astype('float') / cm.sum(axis=1)[:, np.newaxis]\n",
    "# Creating a dataframe for a array-formatted Confusion matrix,so it will be easy for plotting.\n",
    "cm_df = pd.DataFrame(cmn,\n",
    "                     index = ['3','4','5'], \n",
    "                     columns = ['3','4','5'])\n",
    "#Plotting the confusion matrix\n",
    "plt.figure(figsize=(5,4))\n",
    "sns.heatmap(cm_df, annot=True)\n",
    "plt.title('Confusion Matrix')\n",
    "plt.ylabel('Actal Values')\n",
    "plt.xlabel('Predicted Values')\n",
    "plt.show()"
   ]
  },
  {
   "cell_type": "markdown",
   "metadata": {},
   "source": [
    "### Model Prediction"
   ]
  },
  {
   "cell_type": "code",
   "execution_count": 21,
   "metadata": {},
   "outputs": [],
   "source": [
    "predict_X = pd.read_csv(\"predict_final.csv\")\n",
    "predictions = pd.Series(logis.predict(predict_X))\n",
    "csv_file = pd.DataFrame(predictions, columns=[label])\n",
    "csv_file.insert(0, \"id\", predictions.index + 1)\n",
    "csv_file.to_csv(\"logistic_output.csv\", index=False)"
   ]
  }
 ],
 "metadata": {
  "kernelspec": {
   "display_name": "Python 3 (ipykernel)",
   "language": "python",
   "name": "python3"
  },
  "language_info": {
   "codemirror_mode": {
    "name": "ipython",
    "version": 3
   },
   "file_extension": ".py",
   "mimetype": "text/x-python",
   "name": "python",
   "nbconvert_exporter": "python",
   "pygments_lexer": "ipython3",
   "version": "3.9.16"
  }
 },
 "nbformat": 4,
 "nbformat_minor": 4
}
