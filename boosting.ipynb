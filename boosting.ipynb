{
 "cells": [
  {
   "cell_type": "code",
   "execution_count": 2,
   "id": "61fce88f-b6fb-42c8-a960-7f74e72933a5",
   "metadata": {},
   "outputs": [],
   "source": [
    "import numpy as np\n",
    "import pandas as pd\n",
    "import xgboost as xgb\n",
    "\n",
    "np.random.seed(73468)\n",
    "label = \"rating_label\"\n",
    "random_state_const = 1067\n"
   ]
  },
  {
   "cell_type": "code",
   "execution_count": 4,
   "id": "574d583f-d954-4200-9198-c12c07a8a51a",
   "metadata": {},
   "outputs": [],
   "source": [
    "train = pd.read_csv(f\"train_final_normalised.csv\")\n",
    "test = pd.read_csv(f\"test_final_normalised.csv\")\n",
    "\n",
    "train_y = train.pop(label)\n",
    "train_X = train\n",
    "test_y = test.pop(label)\n",
    "test_X = test"
   ]
  },
  {
   "cell_type": "code",
   "execution_count": 6,
   "id": "e805559f-9eef-4bd5-bda0-694a049af62c",
   "metadata": {},
   "outputs": [],
   "source": [
    "from sklearn import metrics\n",
    "\n",
    "def report(a, b):\n",
    "    reports = [\n",
    "                metrics.accuracy_score(a, b), \n",
    "                metrics.precision_score(a, b, average=\"macro\"),\n",
    "                metrics.recall_score(a, b, average=\"macro\"),\n",
    "                metrics.f1_score(a, b, average=\"macro\")\n",
    "               ]\n",
    "    return reports"
   ]
  },
  {
   "cell_type": "code",
   "execution_count": 5,
   "id": "7772e3b5-af21-4186-8961-a51cfd9225f1",
   "metadata": {},
   "outputs": [],
   "source": [
    "xgb_model = xgb.XGBClassifier(objective=\"multi:logisitic\", random_state=42)\n",
    "dii = {3.0: 0, 4.0: 1, 5.0: 2}\n",
    "train_y_fixed = train_y.apply(lambda x: dii[x])\n",
    "xgb_model.fit(train_X, train_y_fixed)\n",
    "y_pred = xgb_model.predict(test_X)"
   ]
  },
  {
   "cell_type": "code",
   "execution_count": 7,
   "id": "82c892f2-3c9a-4ff4-b7d2-4d9efc384d83",
   "metadata": {},
   "outputs": [
    {
     "data": {
      "text/plain": [
       "[0.7069152395404292,\n",
       " 0.7089639115916078,\n",
       " 0.3762236298899437,\n",
       " 0.3699682115401943]"
      ]
     },
     "execution_count": 7,
     "metadata": {},
     "output_type": "execute_result"
    }
   ],
   "source": [
    "test_y_fixed = test_y.apply(lambda x: dii[x])\n",
    "report(test_y_fixed, y_pred)"
   ]
  },
  {
   "cell_type": "code",
   "execution_count": 9,
   "id": "8840fb15-6afd-45c9-8ec2-0765fcd00d96",
   "metadata": {},
   "outputs": [
    {
     "data": {
      "text/plain": [
       "1    4303\n",
       "0     301\n",
       "2       9\n",
       "dtype: int64"
      ]
     },
     "execution_count": 9,
     "metadata": {},
     "output_type": "execute_result"
    }
   ],
   "source": [
    "pd.Series(y_pred).value_counts()"
   ]
  },
  {
   "cell_type": "code",
   "execution_count": 10,
   "id": "48084972-e20c-4ed6-9c96-7c71804f1a50",
   "metadata": {},
   "outputs": [
    {
     "data": {
      "text/plain": [
       "1    3242\n",
       "0    1173\n",
       "2     198\n",
       "Name: rating_label, dtype: int64"
      ]
     },
     "execution_count": 10,
     "metadata": {},
     "output_type": "execute_result"
    }
   ],
   "source": [
    "test_y_fixed.value_counts()"
   ]
  },
  {
   "cell_type": "code",
   "execution_count": null,
   "id": "dc655e55-fa92-411b-877b-72f8542e0f63",
   "metadata": {},
   "outputs": [],
   "source": []
  }
 ],
 "metadata": {
  "kernelspec": {
   "display_name": "Python 3 (ipykernel)",
   "language": "python",
   "name": "python3"
  },
  "language_info": {
   "codemirror_mode": {
    "name": "ipython",
    "version": 3
   },
   "file_extension": ".py",
   "mimetype": "text/x-python",
   "name": "python",
   "nbconvert_exporter": "python",
   "pygments_lexer": "ipython3",
   "version": "3.9.16"
  }
 },
 "nbformat": 4,
 "nbformat_minor": 5
}
