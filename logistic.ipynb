{
 "cells": [
  {
   "cell_type": "code",
   "execution_count": 1,
   "metadata": {},
   "outputs": [],
   "source": [
    "import numpy as np\n",
    "import pandas as pd\n",
    "\n",
    "np.random.seed(409782)\n",
    "label = \"rating_label\""
   ]
  },
  {
   "cell_type": "code",
   "execution_count": 2,
   "metadata": {},
   "outputs": [],
   "source": [
    "train = pd.read_csv(f\"train_final.csv\")\n",
    "test = pd.read_csv(f\"test_final.csv\")\n",
    "\n",
    "train_y = train.pop(label)\n",
    "train_X = train\n",
    "test_y = test.pop(label)\n",
    "test_X = test"
   ]
  },
  {
   "cell_type": "code",
   "execution_count": 3,
   "metadata": {},
   "outputs": [],
   "source": [
    "from sklearn.model_selection import RepeatedKFold, KFold\n",
    "from sklearn import metrics\n",
    "\n",
    "def report(a, b):\n",
    "    print(\"New Split reports\")\n",
    "    reports = [\n",
    "                metrics.accuracy_score(a, b), \n",
    "                metrics.precision_score(a, b, average=\"macro\"),\n",
    "                metrics.recall_score(a, b, average=\"macro\"),\n",
    "                metrics.f1_score(a, b, average=\"macro\")\n",
    "               ]\n",
    "    return reports"
   ]
  },
  {
   "cell_type": "code",
   "execution_count": 4,
   "metadata": {},
   "outputs": [],
   "source": [
    "from sklearn.linear_model import LogisticRegression\n",
    "\n",
    "logis = LogisticRegression(random_state=10987, max_iter=10000)\n",
    "logis.fit(train_X, train_y)\n",
    "pred_y = logis.predict(test_X)"
   ]
  },
  {
   "cell_type": "code",
   "execution_count": 5,
   "metadata": {},
   "outputs": [
    {
     "name": "stdout",
     "output_type": "stream",
     "text": [
      "New Split reports\n"
     ]
    },
    {
     "data": {
      "text/plain": [
       "[0.7021461088228919,\n",
       " 0.3572502045998089,\n",
       " 0.5029020931164169,\n",
       " 0.3335475435109876]"
      ]
     },
     "execution_count": 5,
     "metadata": {},
     "output_type": "execute_result"
    }
   ],
   "source": [
    "report(pred_y, test_y)"
   ]
  },
  {
   "cell_type": "code",
   "execution_count": 6,
   "metadata": {},
   "outputs": [
    {
     "name": "stdout",
     "output_type": "stream",
     "text": [
      "4.0    4417\n",
      "3.0     179\n",
      "5.0      17\n",
      "dtype: int64\n",
      "4.0    3242\n",
      "3.0    1173\n",
      "5.0     198\n",
      "Name: rating_label, dtype: int64\n"
     ]
    }
   ],
   "source": [
    "# indexes = [i for i in range(1, len(test_y) + 1)]\n",
    "# result = pd.DataFrame({\n",
    "#     \"id\": indexes,\n",
    "#     \"rating_label\": pred_y\n",
    "# })\n",
    "# result.to_csv(\"predictions.csv\", index=False)\n",
    "print(pd.Series(pred_y).value_counts())\n",
    "print(test_y.value_counts())"
   ]
  },
  {
   "cell_type": "code",
   "execution_count": null,
   "metadata": {},
   "outputs": [],
   "source": []
  }
 ],
 "metadata": {
  "kernelspec": {
   "display_name": "Python 3 (ipykernel)",
   "language": "python",
   "name": "python3"
  },
  "language_info": {
   "codemirror_mode": {
    "name": "ipython",
    "version": 3
   },
   "file_extension": ".py",
   "mimetype": "text/x-python",
   "name": "python",
   "nbconvert_exporter": "python",
   "pygments_lexer": "ipython3",
   "version": "3.9.16"
  }
 },
 "nbformat": 4,
 "nbformat_minor": 4
}
